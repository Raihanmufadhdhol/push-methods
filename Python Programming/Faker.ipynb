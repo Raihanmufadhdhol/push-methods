{
 "cells": [
  {
   "cell_type": "code",
   "execution_count": 3,
   "id": "196f5761",
   "metadata": {},
   "outputs": [
    {
     "name": "stdout",
     "output_type": "stream",
     "text": [
      "Collecting Faker\n",
      "  Downloading Faker-30.1.0-py3-none-any.whl (1.8 MB)\n",
      "     ---------------------------------------- 1.8/1.8 MB 2.4 MB/s eta 0:00:00\n",
      "Requirement already satisfied: python-dateutil>=2.4 in c:\\users\\raihan\\anaconda3\\envs\\tf_gpu\\lib\\site-packages (from Faker) (2.8.2)\n",
      "Requirement already satisfied: typing-extensions in c:\\users\\raihan\\anaconda3\\envs\\tf_gpu\\lib\\site-packages (from Faker) (4.6.2)\n",
      "Requirement already satisfied: six>=1.5 in c:\\users\\raihan\\anaconda3\\envs\\tf_gpu\\lib\\site-packages (from python-dateutil>=2.4->Faker) (1.16.0)\n",
      "Installing collected packages: Faker\n",
      "Successfully installed Faker-30.1.0\n"
     ]
    },
    {
     "name": "stderr",
     "output_type": "stream",
     "text": [
      "WARNING: Ignoring invalid distribution -rotobuf (c:\\users\\raihan\\anaconda3\\envs\\tf_gpu\\lib\\site-packages)\n",
      "WARNING: Ignoring invalid distribution - (c:\\users\\raihan\\anaconda3\\envs\\tf_gpu\\lib\\site-packages)\n",
      "WARNING: Ignoring invalid distribution -rotobuf (c:\\users\\raihan\\anaconda3\\envs\\tf_gpu\\lib\\site-packages)\n",
      "WARNING: Ignoring invalid distribution - (c:\\users\\raihan\\anaconda3\\envs\\tf_gpu\\lib\\site-packages)\n",
      "WARNING: Ignoring invalid distribution -rotobuf (c:\\users\\raihan\\anaconda3\\envs\\tf_gpu\\lib\\site-packages)\n",
      "WARNING: Ignoring invalid distribution - (c:\\users\\raihan\\anaconda3\\envs\\tf_gpu\\lib\\site-packages)\n",
      "WARNING: Ignoring invalid distribution -rotobuf (c:\\users\\raihan\\anaconda3\\envs\\tf_gpu\\lib\\site-packages)\n",
      "WARNING: Ignoring invalid distribution - (c:\\users\\raihan\\anaconda3\\envs\\tf_gpu\\lib\\site-packages)\n",
      "WARNING: Ignoring invalid distribution -rotobuf (c:\\users\\raihan\\anaconda3\\envs\\tf_gpu\\lib\\site-packages)\n",
      "WARNING: Ignoring invalid distribution - (c:\\users\\raihan\\anaconda3\\envs\\tf_gpu\\lib\\site-packages)\n",
      "WARNING: Ignoring invalid distribution -rotobuf (c:\\users\\raihan\\anaconda3\\envs\\tf_gpu\\lib\\site-packages)\n",
      "WARNING: Ignoring invalid distribution - (c:\\users\\raihan\\anaconda3\\envs\\tf_gpu\\lib\\site-packages)\n",
      "WARNING: Ignoring invalid distribution -rotobuf (c:\\users\\raihan\\anaconda3\\envs\\tf_gpu\\lib\\site-packages)\n",
      "WARNING: Ignoring invalid distribution - (c:\\users\\raihan\\anaconda3\\envs\\tf_gpu\\lib\\site-packages)\n"
     ]
    }
   ],
   "source": [
    "!pip install Faker"
   ]
  },
  {
   "cell_type": "code",
   "execution_count": 11,
   "id": "44c9553c",
   "metadata": {},
   "outputs": [
    {
     "name": "stdout",
     "output_type": "stream",
     "text": [
      "Norma Fisher\n",
      "Jorge Sullivan\n",
      "Elizabeth Woods\n",
      "Susan Wagner\n",
      "Peter Montgomery\n",
      "Theodore Mcgrath\n",
      "Stephanie Collins\n",
      "Stephanie Sutton\n",
      "Brian Hamilton\n",
      "Susan Levy\n"
     ]
    }
   ],
   "source": [
    "from faker import Faker\n",
    "fake = Faker()\n",
    "\n",
    "Faker.seed(0)\n",
    "for i in range(10):\n",
    "    fake_name = fake.name()\n",
    "    print(fake_name)\n",
    "\n",
    "# 'Lucy Cechtelar'\n",
    "\n",
    "# fake.address()\n",
    "# '426 Jordy Lodge\n",
    "#  Cartwrightshire, SC 88120-6700'"
   ]
  },
  {
   "cell_type": "code",
   "execution_count": 13,
   "id": "1b72272a",
   "metadata": {},
   "outputs": [
    {
     "name": "stdout",
     "output_type": "stream",
     "text": [
      "48764 Howard Forge Apt. 421\n",
      "Vanessaside, VT 79393\n",
      "PSC 4115, Box 7815\n",
      "APO AA 41945\n",
      "778 Brown Plaza\n",
      "North Jenniferfurt, VT 88077\n",
      "3513 John Divide Suite 115\n",
      "Rodriguezside, LA 93111\n",
      "398 Wallace Ranch Suite 593\n",
      "Ivanburgh, AZ 80818\n",
      "Unit 4711 Box 2201\n",
      "DPO AP 71358\n",
      "339 Riley Mission Suite 515\n",
      "South Brendamouth, PR 25454\n",
      "35256 Craig Drive Apt. 098\n",
      "North Davidborough, PA 75992\n",
      "1090 Susan Ferry\n",
      "South Jasonton, TX 03487\n",
      "1314 Graham Circle\n",
      "Williamsville, UT 51786\n"
     ]
    }
   ],
   "source": [
    "Faker.seed(0)\n",
    "for i in range(10):\n",
    "    fake_address = fake.address()\n",
    "    print(fake_address)"
   ]
  },
  {
   "cell_type": "code",
   "execution_count": 14,
   "id": "41c979c6",
   "metadata": {},
   "outputs": [
    {
     "name": "stdout",
     "output_type": "stream",
     "text": [
      "(460)648-7647x5938\n",
      "(319)748-9241\n",
      "281.256.5938x7784\n",
      "560-597-5351\n",
      "328.671.1587\n",
      "+1-641-985-8398\n",
      "496-259-3423\n",
      "+1-647-511-2201x868\n",
      "796.394.7751\n",
      "295.333.0413x5256\n"
     ]
    }
   ],
   "source": [
    "Faker.seed(0)\n",
    "for _ in range(10):\n",
    "    fake_phone = fake.phone_number()\n",
    "    print(fake_phone)"
   ]
  },
  {
   "cell_type": "code",
   "execution_count": null,
   "id": "2fe4a358",
   "metadata": {},
   "outputs": [],
   "source": []
  }
 ],
 "metadata": {
  "kernelspec": {
   "display_name": "tf_gpu",
   "language": "python",
   "name": "python3"
  },
  "language_info": {
   "codemirror_mode": {
    "name": "ipython",
    "version": 3
   },
   "file_extension": ".py",
   "mimetype": "text/x-python",
   "name": "python",
   "nbconvert_exporter": "python",
   "pygments_lexer": "ipython3",
   "version": "3.9.16"
  }
 },
 "nbformat": 4,
 "nbformat_minor": 5
}
