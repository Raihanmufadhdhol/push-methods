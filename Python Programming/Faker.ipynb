{
 "cells": [
  {
   "cell_type": "code",
   "execution_count": 1,
   "id": "196f5761",
   "metadata": {},
   "outputs": [
    {
     "name": "stdout",
     "output_type": "stream",
     "text": [
      "Collecting Faker\n",
      "  Downloading Faker-30.0.0-py3-none-any.whl (1.8 MB)\n",
      "     ---------------------------------------- 1.8/1.8 MB 6.5 MB/s eta 0:00:00\n",
      "Requirement already satisfied: python-dateutil>=2.4 in c:\\users\\raihan\\anaconda3\\lib\\site-packages (from Faker) (2.8.2)\n",
      "Requirement already satisfied: six>=1.5 in c:\\users\\raihan\\anaconda3\\lib\\site-packages (from python-dateutil>=2.4->Faker) (1.16.0)\n",
      "Installing collected packages: Faker\n",
      "Successfully installed Faker-30.0.0\n"
     ]
    },
    {
     "name": "stderr",
     "output_type": "stream",
     "text": [
      "WARNING: Ignoring invalid distribution -rotobuf (c:\\users\\raihan\\anaconda3\\lib\\site-packages)\n",
      "WARNING: Ignoring invalid distribution -rotobuf (c:\\users\\raihan\\anaconda3\\lib\\site-packages)\n",
      "\n",
      "[notice] A new release of pip is available: 23.1.2 -> 24.2\n",
      "[notice] To update, run: python.exe -m pip install --upgrade pip\n"
     ]
    }
   ],
   "source": [
    "!pip install Faker"
   ]
  },
  {
   "cell_type": "code",
   "execution_count": 12,
   "id": "44c9553c",
   "metadata": {},
   "outputs": [
    {
     "name": "stdout",
     "output_type": "stream",
     "text": [
      "Joseph Bailey\n",
      "Jeffrey Smith\n",
      "Brian Rodriguez\n",
      "Jeremy Evans\n",
      "Samantha Allen\n",
      "James Williams\n",
      "Sean Lee\n",
      "Jo Foster\n",
      "Monique Davis\n",
      "Allison Crane\n"
     ]
    }
   ],
   "source": [
    "from faker import Faker\n",
    "fake = Faker()\n",
    "\n",
    "for i in range(10):\n",
    "    fake_name = fake.name()\n",
    "    print(fake_name)\n",
    "\n",
    "# 'Lucy Cechtelar'\n",
    "\n",
    "# fake.address()\n",
    "# '426 Jordy Lodge\n",
    "#  Cartwrightshire, SC 88120-6700'"
   ]
  },
  {
   "cell_type": "code",
   "execution_count": 13,
   "id": "1b72272a",
   "metadata": {},
   "outputs": [
    {
     "name": "stdout",
     "output_type": "stream",
     "text": [
      "USS Meadows\n",
      "FPO AA 48286\n",
      "62521 Blake Square\n",
      "Hickstown, MO 11444\n",
      "PSC 0771, Box 4007\n",
      "APO AP 57989\n",
      "878 Hunter Crossing Apt. 213\n",
      "South Thomas, UT 08172\n",
      "6112 Guzman Flats\n",
      "Carolynport, NM 68507\n",
      "8542 William Station\n",
      "Vickiemouth, TN 16978\n",
      "131 Martinez Park Suite 691\n",
      "Pamelamouth, VT 57243\n",
      "68569 Omar Drive Apt. 380\n",
      "Kennethside, OR 60125\n",
      "094 Wayne Valleys Suite 300\n",
      "Kimberlyton, AR 21507\n",
      "4602 Diana Common Suite 175\n",
      "Port Jamesborough, WY 16647\n"
     ]
    }
   ],
   "source": [
    "for i in range(10):\n",
    "    fake_address = fake.address()\n",
    "    print(fake_address)"
   ]
  },
  {
   "cell_type": "code",
   "execution_count": 14,
   "id": "41c979c6",
   "metadata": {},
   "outputs": [
    {
     "ename": "UniquenessException",
     "evalue": "Got duplicated values after 1,000 iterations.",
     "output_type": "error",
     "traceback": [
      "\u001b[1;31m---------------------------------------------------------------------------\u001b[0m",
      "\u001b[1;31mUniquenessException\u001b[0m                       Traceback (most recent call last)",
      "\u001b[1;32m~\\AppData\\Local\\Temp/ipykernel_24728/1213523644.py\u001b[0m in \u001b[0;36m<module>\u001b[1;34m\u001b[0m\n\u001b[0;32m      1\u001b[0m \u001b[1;32mfor\u001b[0m \u001b[0mi\u001b[0m \u001b[1;32min\u001b[0m \u001b[0mrange\u001b[0m\u001b[1;33m(\u001b[0m\u001b[1;36m3\u001b[0m\u001b[1;33m)\u001b[0m\u001b[1;33m:\u001b[0m\u001b[1;33m\u001b[0m\u001b[1;33m\u001b[0m\u001b[0m\n\u001b[0;32m      2\u001b[0m      \u001b[1;31m# Raises a UniquenessException\u001b[0m\u001b[1;33m\u001b[0m\u001b[1;33m\u001b[0m\u001b[0m\n\u001b[1;32m----> 3\u001b[1;33m      \u001b[0mfake\u001b[0m\u001b[1;33m.\u001b[0m\u001b[0munique\u001b[0m\u001b[1;33m.\u001b[0m\u001b[0mboolean\u001b[0m\u001b[1;33m(\u001b[0m\u001b[1;33m)\u001b[0m\u001b[1;33m\u001b[0m\u001b[1;33m\u001b[0m\u001b[0m\n\u001b[0m",
      "\u001b[1;32m~\\anaconda3\\lib\\site-packages\\faker\\proxy.py\u001b[0m in \u001b[0;36mwrapper\u001b[1;34m(*args, **kwargs)\u001b[0m\n\u001b[0;32m    339\u001b[0m                 \u001b[0mretval\u001b[0m \u001b[1;33m=\u001b[0m \u001b[0mfunction\u001b[0m\u001b[1;33m(\u001b[0m\u001b[1;33m*\u001b[0m\u001b[0margs\u001b[0m\u001b[1;33m,\u001b[0m \u001b[1;33m**\u001b[0m\u001b[0mkwargs\u001b[0m\u001b[1;33m)\u001b[0m\u001b[1;33m\u001b[0m\u001b[1;33m\u001b[0m\u001b[0m\n\u001b[0;32m    340\u001b[0m             \u001b[1;32melse\u001b[0m\u001b[1;33m:\u001b[0m\u001b[1;33m\u001b[0m\u001b[1;33m\u001b[0m\u001b[0m\n\u001b[1;32m--> 341\u001b[1;33m                 \u001b[1;32mraise\u001b[0m \u001b[0mUniquenessException\u001b[0m\u001b[1;33m(\u001b[0m\u001b[1;34mf\"Got duplicated values after {_UNIQUE_ATTEMPTS:,} iterations.\"\u001b[0m\u001b[1;33m)\u001b[0m\u001b[1;33m\u001b[0m\u001b[1;33m\u001b[0m\u001b[0m\n\u001b[0m\u001b[0;32m    342\u001b[0m \u001b[1;33m\u001b[0m\u001b[0m\n\u001b[0;32m    343\u001b[0m             \u001b[0mgenerated\u001b[0m\u001b[1;33m.\u001b[0m\u001b[0madd\u001b[0m\u001b[1;33m(\u001b[0m\u001b[0mretval\u001b[0m\u001b[1;33m)\u001b[0m\u001b[1;33m\u001b[0m\u001b[1;33m\u001b[0m\u001b[0m\n",
      "\u001b[1;31mUniquenessException\u001b[0m: Got duplicated values after 1,000 iterations."
     ]
    }
   ],
   "source": [
    "for i in range(3):\n",
    "     # Raises a UniquenessException\n",
    "     fake.unique.boolean()"
   ]
  },
  {
   "cell_type": "code",
   "execution_count": null,
   "id": "2fe4a358",
   "metadata": {},
   "outputs": [],
   "source": []
  }
 ],
 "metadata": {
  "kernelspec": {
   "display_name": "Python 3 (ipykernel)",
   "language": "python",
   "name": "python3"
  },
  "language_info": {
   "codemirror_mode": {
    "name": "ipython",
    "version": 3
   },
   "file_extension": ".py",
   "mimetype": "text/x-python",
   "name": "python",
   "nbconvert_exporter": "python",
   "pygments_lexer": "ipython3",
   "version": "3.9.7"
  }
 },
 "nbformat": 4,
 "nbformat_minor": 5
}
